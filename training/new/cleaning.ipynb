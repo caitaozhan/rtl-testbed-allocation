{
 "cells": [
  {
   "cell_type": "markdown",
   "metadata": {},
   "source": [
    "# 1 Remove samples with -1 or 0 optimal power"
   ]
  },
  {
   "cell_type": "code",
   "execution_count": 10,
   "metadata": {},
   "outputs": [],
   "source": [
    "infile  = 'su_pu'\n",
    "outfile = 'su_pu_remove'\n",
    "\n",
    "with open(infile, 'r') as inpt, open(outfile, 'w') as output:\n",
    "    for line in inpt:\n",
    "        line = line.split(', ')\n",
    "        opt = line[-1].strip()\n",
    "        if opt != '-1' and opt != '0':\n",
    "            output.write(', '.join(line))\n",
    "\n",
    "infile  = 'su_ss'\n",
    "outfile = 'su_ss_remove'\n",
    "\n",
    "with open(infile, 'r') as inpt, open(outfile, 'w') as output:\n",
    "    for line in inpt:\n",
    "        line = line.split(', ')\n",
    "        opt = line[-1].strip()\n",
    "        if opt != '-1' and opt != '0':\n",
    "            output.write(', '.join(line))"
   ]
  },
  {
   "cell_type": "markdown",
   "metadata": {},
   "source": [
    "# 2 Calibrate Gains"
   ]
  },
  {
   "cell_type": "code",
   "execution_count": 17,
   "metadata": {},
   "outputs": [],
   "source": [
    "def get_tx(x, y):\n",
    "    if 0 <= x <= 4 and 0 <= y <= 4:\n",
    "        return '3'\n",
    "    if 5 <= x <= 9 and 0 <= y <= 4:\n",
    "        return '2'\n",
    "    if 5 <= x <= 9 and 5 <= y <= 9:\n",
    "        return '1'\n",
    "    if 0 <= x <= 4 and 5 <= y <= 9:\n",
    "        return '4'\n",
    "    raise Exception(f'{x} {y} not valid')"
   ]
  },
  {
   "cell_type": "code",
   "execution_count": 33,
   "metadata": {},
   "outputs": [],
   "source": [
    "def calibrate(x, tx):\n",
    "    '''Calibrated to TX3 (PU3)\n",
    "    '''\n",
    "    if tx == '1':\n",
    "        return x - 50\n",
    "    if tx == '2':\n",
    "        return 1.3*x - 57.5\n",
    "    if tx == '3':\n",
    "        return x\n",
    "    if tx == '4':\n",
    "        return x - 27\n",
    "    if tx == 'hackrf':\n",
    "        return 1.03*x + 21.26\n",
    "    raise Exception(f'tx = {tx}, not valid input')"
   ]
  },
  {
   "cell_type": "code",
   "execution_count": 41,
   "metadata": {},
   "outputs": [],
   "source": [
    "infile  = 'su_pu_remove'\n",
    "outfile = 'su_pu_calibrate'\n",
    "\n",
    "with open(infile, 'r') as inpt, open(outfile, 'w') as output:\n",
    "    for line in inpt:\n",
    "        line = line.split(', ')\n",
    "        num_pu = int(line[0])\n",
    "        for i in range(num_pu):\n",
    "            x = float(line[1 + i*3])\n",
    "            y = float(line[1 + i*3 + 1])\n",
    "            gain = float(line[1 + i*3 + 2])\n",
    "            tx = get_tx(x, y)\n",
    "            gain2 = calibrate(gain, tx)\n",
    "            line[1 + i*3 + 2] = '{:.1f}'.format(gain2)\n",
    "        opt = float(line[-1].strip())\n",
    "        opt2 = calibrate(opt, 'hackrf')\n",
    "        line[-1] =  '{:.1f}\\n'.format(opt2)\n",
    "        output.write(', '.join(line))\n",
    "\n",
    "\n",
    "infile  = 'su_ss_remove'\n",
    "outfile = 'su_ss_calibrate'\n",
    "\n",
    "with open(infile, 'r') as inpt, open(outfile, 'w') as output:\n",
    "    for line in inpt:\n",
    "        line = line.split(', ')\n",
    "        opt  = float(line[-1].strip())\n",
    "        opt2 = calibrate(opt, 'hackrf')\n",
    "        line[-1] =  '{:.1f}\\n'.format(opt2)\n",
    "        line.pop(4)                             # sensor 101 is down\n",
    "        output.write(', '.join(line))\n",
    "\n",
    "# 158, 160, 170, 180 all ways report noise floor\n",
    "# So, 18 - 1 - 4 = 13 useful sensors"
   ]
  },
  {
   "cell_type": "code",
   "execution_count": null,
   "metadata": {},
   "outputs": [],
   "source": []
  }
 ],
 "metadata": {
  "kernelspec": {
   "display_name": "Python 3",
   "language": "python",
   "name": "python3"
  },
  "language_info": {
   "codemirror_mode": {
    "name": "ipython",
    "version": 3
   },
   "file_extension": ".py",
   "mimetype": "text/x-python",
   "name": "python",
   "nbconvert_exporter": "python",
   "pygments_lexer": "ipython3",
   "version": "3.7.3"
  }
 },
 "nbformat": 4,
 "nbformat_minor": 2
}
